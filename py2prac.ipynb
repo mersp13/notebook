{
 "cells": [
  {
   "cell_type": "code",
   "execution_count": 8,
   "metadata": {},
   "outputs": [],
   "source": [
    "import numpy as np\n",
    "import pylab as pl\n",
    "from scipy.integrate import quad"
   ]
  },
  {
   "cell_type": "code",
   "execution_count": 9,
   "metadata": {},
   "outputs": [
    {
     "data": {
      "text/plain": [
       "3.1415926535897967"
      ]
     },
     "execution_count": 9,
     "metadata": {},
     "output_type": "execute_result"
    }
   ],
   "source": [
    "quad(lambda x:(1-x**2)**0.5, -1, 1)[0] * 2"
   ]
  },
  {
   "cell_type": "code",
   "execution_count": 12,
   "metadata": {
    "collapsed": true
   },
   "outputs": [],
   "source": [
    "x, y = np.mgrid[-2:2:500j, -2:2:500j]\n",
    "z = (x**2 + y**2 - 1)**3 - x**2 * y**3\n",
    "pl.contourf(x, y, z, levels=[-1, 0], colors=[\"red\"])\n",
    "pl.gca().set_aspect(\"equal\")"
   ]
  },
  {
   "cell_type": "code",
   "execution_count": 13,
   "metadata": {},
   "outputs": [
    {
     "name": "stderr",
     "output_type": "stream",
     "text": [
      "ERROR:root:Cell magic `%%mlab_plot` not found.\n"
     ]
    }
   ],
   "source": [
    "%%mlab_plot\n",
    "from mayavi import mlab\n",
    "x, y, z = np.mgrid[-3:3:100j, -1:1:100j, -3:3:100j]\n",
    "f = (x**2 + 9.0/4*y**2 + z**2 -1)**3 - x**2 * z**3 - 9.0/80 * y**2 * z**3\n",
    "contour = mlab.contour3d(x, y, z, f, contours=[0], color=(1, 0, 0))"
   ]
  },
  {
   "cell_type": "code",
   "execution_count": null,
   "metadata": {
    "collapsed": true
   },
   "outputs": [],
   "source": []
  }
 ],
 "metadata": {
  "kernelspec": {
   "display_name": "Python 2",
   "language": "python",
   "name": "python2"
  },
  "language_info": {
   "codemirror_mode": {
    "name": "ipython",
    "version": 2
   },
   "file_extension": ".py",
   "mimetype": "text/x-python",
   "name": "python",
   "nbconvert_exporter": "python",
   "pygments_lexer": "ipython2",
   "version": "2.7.14"
  }
 },
 "nbformat": 4,
 "nbformat_minor": 2
}
